{
 "cells": [
  {
   "cell_type": "code",
   "execution_count": null,
   "id": "a51695dc-9d3f-4944-a4c0-b2b53c501411",
   "metadata": {},
   "outputs": [],
   "source": [
    "import cartopy.crs as ccrs\n",
    "import cartopy.feature as cf\n",
    "import cmocean\n",
    "import matplotlib.pyplot as plt\n",
    "import xarray as xr\n",
    "import numpy as np\n",
    "import seaborn as sns"
   ]
  },
  {
   "cell_type": "code",
   "execution_count": null,
   "id": "187945e1-fde8-4aad-9640-11543afc7603",
   "metadata": {},
   "outputs": [],
   "source": [
    "ystart, yend = \"2020\", \"2039\"\n",
    "\n",
    "# load 1x1 degree data as downloaded from the lra\n",
    "ds = xr.open_mfdataset(\"/scratch/m/m218027/2t*.nc\", concat_dim=\"time\", combine=\"nested\").sortby(\"time\")\n",
    "ds = ds.isel(time=np.unique(ds.time.values, return_index=True)[1]).sel(time=slice(ystart, yend))\n",
    "\n",
    "popt = ds.polyfit(dim=\"time\", deg=1)\n",
    "ns_in_month = np.timedelta64(1, \"M\").astype(\"timedelta64[ns]\").astype(int)"
   ]
  },
  {
   "cell_type": "code",
   "execution_count": null,
   "id": "393e9bbe-b7ec-499c-bcf8-0e2c984d4a60",
   "metadata": {},
   "outputs": [],
   "source": [
    "fig, ax = plt.subplots(\n",
    "    figsize=(10, 5),\n",
    "    constrained_layout=True,\n",
    "    subplot_kw={\"projection\": ccrs.EqualEarth(0*-135)},\n",
    ")\n",
    "ax.set_global()\n",
    "\n",
    "# Use high-resolution coastlines (10m resolution for better detail)\n",
    "coastline = cf.NaturalEarthFeature(\n",
    "    category=\"physical\", name=\"coastline\", scale=\"50m\", edgecolor=\"black\", facecolor=\"none\"\n",
    ")\n",
    "ax.add_feature(coastline, linewidth=0.5)  # Adjust linewidth for visibility\n",
    "#ax.coastlines(lw=0.7)\n",
    "#ax.add_feature(cf.BORDERS, lw=0.4)\n",
    "ax.add_feature(cf.RIVERS, lw=0.4, edgecolor=\"black\")\n",
    "\n",
    "# Reduce the thickness of the map outline (bounding box)\n",
    "for spine in ax.spines.values():\n",
    "    spine.set_linewidth(0.5)\n",
    "    \n",
    "sm = ax.pcolormesh(\n",
    "    ds.lon,\n",
    "    ds.lat,\n",
    "    popt[\"2t_polyfit_coefficients\"].sel(degree=1) * ns_in_month * 10,\n",
    "    transform=ccrs.PlateCarree(),\n",
    "    vmin=-0.5,\n",
    "    vmax=0.5,\n",
    "    cmap=\"cmo.balance\",\n",
    ")\n",
    "ax.set_title(f\"Linear trend in 2m air temperature ({ystart}–{yend}) in ICON (SSP3-7.0)\")\n",
    "cbar=fig.colorbar(sm, label=\"K / decade\", pad=0.1, shrink=0.5,aspect=30,extend=\"both\",orientation=\"horizontal\")\n",
    "# Remove the bounding box around the colorbar\n",
    "cbar.outline.set_visible(False)\n",
    "sns.set_context('paper')\n",
    "fig.savefig(f\"climatedt_icon_2t_trend_{ystart}-{yend}.png\", dpi=250)\n",
    "\n",
    "fig, ax = plt.subplots(figsize=(10, 5))\n",
    "ds[\"2t\"].mean((\"lat\", \"lon\")).plot()\n",
    "sns.set_context('paper')\n",
    "sns.despine(offset=10)\n",
    "fig.savefig(f\"climatedt_icon_2t_timeseries.png\", dpi=250)"
   ]
  },
  {
   "cell_type": "code",
   "execution_count": null,
   "id": "a8d6c74e-9d68-458a-bd2d-49c615d3768c",
   "metadata": {},
   "outputs": [],
   "source": []
  }
 ],
 "metadata": {
  "kernelspec": {
   "display_name": "0 Python 3 (based on the module python3/unstable",
   "language": "python",
   "name": "python3_unstable"
  },
  "language_info": {
   "codemirror_mode": {
    "name": "ipython",
    "version": 3
   },
   "file_extension": ".py",
   "mimetype": "text/x-python",
   "name": "python",
   "nbconvert_exporter": "python",
   "pygments_lexer": "ipython3",
   "version": "3.10.10"
  }
 },
 "nbformat": 4,
 "nbformat_minor": 5
}
